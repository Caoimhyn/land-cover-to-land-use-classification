{
 "cells": [
  {
   "cell_type": "code",
   "execution_count": null,
   "metadata": {
    "collapsed": true
   },
   "outputs": [],
   "source": [
    "import gdal\n",
    "import sys\n",
    "import time as tm\n",
    "import numpy as np\n",
    "import scipy\n",
    "import scipy.stats\n",
    "from gdalconst import *\n",
    "from skimage import exposure\n",
    "from skimage import io\n",
    "from sklearn import tree\n",
    "from matplotlib import pyplot as plt\n",
    "from matplotlib import colors"
   ]
  }
 ],
 "metadata": {
  "kernelspec": {
   "display_name": "Python 2",
   "language": "python",
   "name": "python2"
  },
  "language_info": {
   "codemirror_mode": {
    "name": "ipython",
    "version": 2
   },
   "file_extension": ".py",
   "mimetype": "text/x-python",
   "name": "python",
   "nbconvert_exporter": "python",
   "pygments_lexer": "ipython2",
   "version": "2.7.11"
  }
 },
 "nbformat": 4,
 "nbformat_minor": 0
}
